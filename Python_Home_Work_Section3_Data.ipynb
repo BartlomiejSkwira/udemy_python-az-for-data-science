{
 "cells": [
  {
   "cell_type": "code",
   "execution_count": 1,
   "metadata": {
    "scrolled": true
   },
   "outputs": [
    {
     "ename": "TypeError",
     "evalue": "filter expected 2 arguments, got 0",
     "output_type": "error",
     "traceback": [
      "\u001b[0;31m---------------------------------------------------------------------------\u001b[0m",
      "\u001b[0;31mTypeError\u001b[0m                                 Traceback (most recent call last)",
      "\u001b[0;32m<ipython-input-1-408f917203d8>\u001b[0m in \u001b[0;36m<module>\u001b[0;34m\u001b[0m\n\u001b[1;32m     38\u001b[0m \u001b[0mworst_month\u001b[0m \u001b[0;34m=\u001b[0m \u001b[0mprofits_after_tax\u001b[0m\u001b[0;34m.\u001b[0m\u001b[0mindex\u001b[0m\u001b[0;34m(\u001b[0m\u001b[0mmin\u001b[0m\u001b[0;34m(\u001b[0m\u001b[0mprofits_after_tax\u001b[0m\u001b[0;34m)\u001b[0m\u001b[0;34m)\u001b[0m\u001b[0;34m\u001b[0m\u001b[0m\n\u001b[1;32m     39\u001b[0m \u001b[0;34m\u001b[0m\u001b[0m\n\u001b[0;32m---> 40\u001b[0;31m good_months2 = filter(\n\u001b[0m\u001b[1;32m     41\u001b[0m \u001b[0;34m\u001b[0m\u001b[0m\n\u001b[1;32m     42\u001b[0m )\n",
      "\u001b[0;31mTypeError\u001b[0m: filter expected 2 arguments, got 0"
     ]
    }
   ],
   "source": [
    "#VARS \n",
    "revenue = [14574.49, 7606.46, 8611.41, 9175.41, 8058.65, 8105.44, 11496.28, 9766.09, 10305.32, 14379.96, 10713.97, 15433.50]\n",
    "expenses = [12051.82, 5695.07, 12319.20, 12089.72, 8658.57, 840.20, 3285.73, 5821.12, 6976.93, 16618.61, 10054.37, 3803.96]\n",
    "\n",
    "good_months = []\n",
    "bad_months = []\n",
    "NR_OF_MONTHS = 12\n",
    "\n",
    "#HELPER FUNCTIONS\n",
    "def format_as_money(amount_list):\n",
    "    \"\"\"Formats a list of cash values represented as floats \n",
    "    to sth like `$1,434` - no decimal and thousand separator == `,`.\"\"\"\n",
    "    return list(\n",
    "        map(\n",
    "            lambda amount: \"${:,}\".format(int(amount)), amount_list\n",
    "        )\n",
    "    )\n",
    "\n",
    "#CALCULATIONS\n",
    "yearly_profit = sum(revenue) - sum(expenses)\n",
    "yearly_profit_after_tax = yearly_profit - yearly_profit * 0.3\n",
    "mean_profit = yearly_profit_after_tax / 12\n",
    "\n",
    "for i in range(NR_OF_MONTHS):\n",
    "    profit = revenue[i] - expenses[i]\n",
    "    profit_after_tax = profit - profit * 0.3\n",
    "    \n",
    "    if profit_after_tax > mean_profit:\n",
    "        good_months.append(i)\n",
    "    else:\n",
    "        bad_months.append(i)    \n",
    "\n",
    "        \n",
    "profits = [revenue[i] - expenses[i] for i in range(NR_OF_MONTHS)]\n",
    "profits_after_tax = [(profit - profit * 0.3) for profit in profits]\n",
    "profit_margins = [(profit / revenue[index]) * 100 for index, profit in enumerate(profits_after_tax)]\n",
    "best_month = profits_after_tax.index(max(profits_after_tax))\n",
    "worst_month = profits_after_tax.index(min(profits_after_tax))\n",
    "\n",
    "good_months2 = filter(\n",
    "    \n",
    ")\n",
    "\n",
    "#PRINT RESULTS\n",
    "print(\"Profits =\", format_as_money(profits))\n",
    "print()\n",
    "print(\"Profits after tax =\", format_as_money(profits_after_tax))\n",
    "print()\n",
    "print(\"Profit margins =\", profit_margins)\n",
    "print()\n",
    "print(\"Yearly profit =\", format_as_money([yearly_profit])[0])\n",
    "print(\"Yearly profit after tax =\", format_as_money([yearly_profit_after_tax])[0])\n",
    "print(\"Mean monthly profit = \", format_as_money([mean_profit])[0])\n",
    "print()\n",
    "print(\"Good months =\", good_months)\n",
    "print(\"Good months2 =\", good_months2)\n",
    "print(\"Bad months =\", bad_months)\n",
    "print()\n",
    "print(\"Best month =\", best_month)\n",
    "print(\"Worst month =\", worst_month)"
   ]
  },
  {
   "cell_type": "code",
   "execution_count": null,
   "metadata": {},
   "outputs": [],
   "source": []
  },
  {
   "cell_type": "code",
   "execution_count": null,
   "metadata": {},
   "outputs": [],
   "source": []
  }
 ],
 "metadata": {
  "kernelspec": {
   "display_name": "Python 3",
   "language": "python",
   "name": "python3"
  },
  "language_info": {
   "codemirror_mode": {
    "name": "ipython",
    "version": 3
   },
   "file_extension": ".py",
   "mimetype": "text/x-python",
   "name": "python",
   "nbconvert_exporter": "python",
   "pygments_lexer": "ipython3",
   "version": "3.7.0"
  }
 },
 "nbformat": 4,
 "nbformat_minor": 1
}
